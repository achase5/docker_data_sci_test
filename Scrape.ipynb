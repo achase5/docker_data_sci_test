{
 "cells": [
  {
   "cell_type": "code",
   "execution_count": 16,
   "metadata": {},
   "outputs": [],
   "source": [
    "## import mods\n",
    "from bs4 import BeautifulSoup\n",
    "import requests\n",
    "import re\n",
    "import pandas as pd\n",
    "\n"
   ]
  },
  {
   "cell_type": "code",
   "execution_count": 19,
   "metadata": {},
   "outputs": [],
   "source": [
    "# Get data\n",
    "url = 'https://portland.craigslist.org/search/sss?query=rock+climbing'\n",
    "r  = requests.get(url)\n",
    "data = r.text\n",
    "soup = BeautifulSoup(data,'lxml')"
   ]
  },
  {
   "cell_type": "code",
   "execution_count": 20,
   "metadata": {
    "scrolled": false
   },
   "outputs": [
    {
     "data": {
      "text/plain": [
       "120"
      ]
     },
     "execution_count": 20,
     "metadata": {},
     "output_type": "execute_result"
    }
   ],
   "source": [
    "# Query\n",
    "soup2 = soup.findAll('a', { \"class\" : \"result-image\" })\n",
    "re_link = re.compile(\"https://(.*).html\")\n",
    "links = [re_link.findall(str(i)) for i in  soup2]\n",
    "len(links)"
   ]
  },
  {
   "cell_type": "code",
   "execution_count": 21,
   "metadata": {},
   "outputs": [],
   "source": [
    "# Structure\n",
    "re_price = re.compile(\"\"\"<span class=\"result-price\">(.*)</span>\"\"\")\n",
    "price = [re_price.findall(str(i)) for i in  soup2]\n",
    "price = [[None] if len(i) == 0  else i for i in price]\n",
    "price = [item for sublist in price for item in sublist]\n",
    "flat_list = [item for sublist in links for item in sublist]\n",
    "links = ['https://'+i+'.html' for i in flat_list]\n",
    "price_frame = pd.DataFrame({'Price':price,'Url':links})"
   ]
  }
 ],
 "metadata": {
  "kernelspec": {
   "display_name": "Python 3",
   "language": "python",
   "name": "python3"
  },
  "language_info": {
   "codemirror_mode": {
    "name": "ipython",
    "version": 3
   },
   "file_extension": ".py",
   "mimetype": "text/x-python",
   "name": "python",
   "nbconvert_exporter": "python",
   "pygments_lexer": "ipython3",
   "version": "3.5.2"
  }
 },
 "nbformat": 4,
 "nbformat_minor": 2
}
